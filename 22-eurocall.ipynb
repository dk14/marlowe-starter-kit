{
 "cells": [
  {
   "attachments": {},
   "cell_type": "markdown",
   "id": "caa144a8-d3d7-42de-bfdd-8b27cf4c5cbe",
   "metadata": {
    "tags": [],
    "vscode": {
     "languageId": "shellscript"
    }
   },
   "source": [
    "# Wolfram Eropean Call Option example\n",
    "\n",
    "This example demonstrates a contract utilizing Wolfram's computational intelligence as an Oracle for a betting contract.\n",
    "\n",
    "1:3 bet\n",
    "\n",
    "Introduction:\n",
    "\n",
    "Alice is betting `premium` amount on: price of Bitcoin to be more than strike + premium. \n",
    "How: Alice buys a call option, Alice offers a put to Bob\n",
    "\n",
    "Bob is betting `margin` amount on: price to be less than strike + premium.\n",
    "How: Bob offers a call to Alice, Bob buys a put option (with premium = alice_margin, margin = alice_premium, strike at net profit=0), \n",
    "\n",
    "The option’s bet is ternary (“amortized” between win and loss, See Picture 1).\n",
    "\n",
    "Parties are “splitting the pie”, rather than “winner takes all” as was in previous example*\n",
    "    * previous “simple bet” was actually a binary option (an option with infinite leverage).\n",
    "\n",
    "Since P2P option has collar-like collateralization:\n",
    "- If Alice wins, she’s gonna net profit `min(value-premium, margin)` (capped at margin for Alice)\n",
    "- If Bob wins, he’ll net profit `min(premium-value, premium)` (capped at premium for bob)\n",
    "\n",
    "Since the option is a right to buy an asset at strike price, the gross value (not accounting for premium’s bias) of an option is:\n",
    "\n",
    "`notional * (market - strike).` \n",
    "\n",
    "EXTRA TERMS:\n",
    "Tender settlement.\n",
    "At the money (net profit = 0)\n",
    "(strike is actual imaginary BTC price minus “premium divided by notional” at the purchase date, so the contract starts at the threshold between loss and profit)\n",
    "European call: can only be exercised at certain date.\n",
    "\n",
    "[Contract](eurocall-contract.marlowe)\n",
    "[Marlowe Playground](https://play.marlowe.iohk.io//)\n",
    "\n",
    "![payoff curve](to/img.png)\n",
    "\n",
    "Picture 1:1 Option (premium = margin). For Alice, loss potential is limited by premium, and profit by margin. Vice versa for Bob.\n",
    "The slope of the “put strike -> call strike” line corresponds to leverage\n",
    "\n",
    "Quantitative notes:\n",
    "- From “value at risk” perspective, premium could be seen as Alice’s collateral while margin is Bob’s collateral\n",
    "- Swapping “market” and “strike” in “value” formula in a Call contract would convert it to a “Put” option\n",
    "- Swapping margins and premiums would allow create a “perfect hedge“ pair of call and put option\n",
    "\n",
    "- Due to tender settlement, notional only represents leverage, not the actual asset\n",
    "- If notional = 1 BTC, then deal is non-leveraged (1X). This would be equivalent to spot trading, but with protected portfolio and lower collateral (the whole notional would become collateral then).\n",
    "- tender settlement allows speculating parties to avoid collateralization of notional BTC and notional * strike ADA. Physical settlement would not require Oracle, since parties would just swap (optionally) notional for strike\n",
    "\n",
    "Technical notes\n",
    "- Choice dummy enforces minimum exercise time (a hack for Marlowe), it should be address derived from randomly generated public (not private!) key\n",
    "- Oracle is responsible for reporting no later than maximum exercise time\n",
    "\n",
    "Test cases (for Marlowe Playground):\n",
    "\n",
    "```\n",
    "Terms: Notional = 1, strike = 1000, premium = 100, margin = 300\n",
    "\n",
    "observed price        -> Alice payout       , Bob payout \n",
    "————————————————————————————————————————————————————————————\n",
    "1100                  ->  100               , 300\n",
    "100000                ->  400               , 0\n",
    "0                     ->  0                 , 400\n",
    "1110                  ->  110               , 290\n",
    "1090                  ->  90                , 310\n",
    "\n",
    "\n",
    "\n",
    "Terms: Notional = 2 (2X leverage), strike = 1000, premium = 100, margin = 300\n",
    "\n",
    "observed price        -> Alice payout, Bob payout \n",
    "————————————————————————————————————————————————————————————\n",
    "1100                  ->  100                , 300\n",
    "100000                ->  400                , 0\n",
    "0                     ->  0                  , 400\n",
    "1110                  ->  120                , 280\n",
    "1090                  ->  80                 , 320\n",
    "```\n",
    "\n",
    "```\n",
    "$TIME = \n",
    "$DEPOSIT_PERIOD = 1 MINUTE\n",
    "$PERIOD_TO_EXPIRATION = 4 MINUTES\n",
    "\n",
    "$ADA_TIME = \n",
    "$ADA_DEPOSIT_PERIOD = \n",
    "$ADA_PERIOD_TO_EXPIRATION. =\n",
    "\n",
    "Sed 1000000000000001, $ADA_TIME + $ADA_DEPOSIT_PERIOD\n",
    "Sed 1000000000000002, $ADA_TIME + $ADA_DEPOSIT_PERIOD + 1\n",
    "Sed 1000000100000001, $ADA_TIME + $ADA_DEPOSIT_PERIOD + $ADA_PERIOD_TO_EXPIRATION\n",
    "Sed 1000000100000001, $ADA_TIME + $ADA_DEPOSIT_PERIOD + $ADA_PERIOD_TO_EXPIRATION + 1\n",
    "```"
   ]
  },
  {
   "attachments": {},
   "cell_type": "markdown",
   "id": "b94d119b-6a78-4972-83be-bede23021187",
   "metadata": {},
   "source": [
    "## Preliminaries\n",
    "\n",
    "See [Lesson 0. Preliminaries](00-preliminaries.md) for information on setting up one's environment for using this tutorial.\n",
    "\n",
    "The lesson assumes that the following environment variables have been set.\n",
    "- `CARDANO_NODE_SOCKET_PATH`: location of Cardano node's socket.\n",
    "- `CARDANO_TESTNET_MAGIC`: testnet magic number.\n",
    "\n",
    "It also assumes that the Lender and Borrower parties have addresses, signing keys, and funds.\n",
    "- Lender\n",
    "    - [keys/alice.address](keys/alice.address): Cardano address for Alice\n",
    "    - [keys/alice.skey](keys/alice.skey): location of signing key file for Alice\n",
    "- Borrower\n",
    "    - [keys/bob.address](keys/borrower.address): Cardano address for Bob\n",
    "    - [keys/bob.skey](keys/borrower.skey): location of signing key file for Bob"
   ]
  },
  {
   "cell_type": "markdown",
   "id": "9fb26443-798a-4865-bd8e-21bbeee6522a",
   "metadata": {
    "tags": []
   },
   "source": [
    "### Access to Cardano node and Marlowe Runtime\n",
    "\n",
    "If we're using [demeter.run](https://demeter.run/)'s Cardano Marlowe Runtime extension, then we already have access to Cardano Node and Marlowe Runtime. The followind commands will set the required environment variables to use a local docker deployment on the default ports. It will also set some supplementary environment variables."
   ]
  },
  {
   "cell_type": "code",
   "execution_count": 9,
   "id": "cd27279f-12aa-4d66-92a7-5eb1224b1d90",
   "metadata": {
    "tags": [],
    "vscode": {
     "languageId": "shellscript"
    }
   },
   "outputs": [
    {
     "name": "stdout",
     "output_type": "stream",
     "text": [
      "CARDANO_NODE_SOCKET_PATH = /ipc/node.socket\n",
      "CARDANO_TESTNET_MAGIC = 2\n"
     ]
    }
   ],
   "source": [
    "if [[ -z \"$CARDANO_NODE_SOCKET_PATH\" ]]\n",
    "then\n",
    "\n",
    "  # Only required for `marlowe-cli` and `cardano-cli`.\n",
    "  export CARDANO_NODE_SOCKET_PATH=\"$(docker volume inspect marlowe-starter-kit_shared | jq -r '.[0].Mountpoint')/node.socket\"\n",
    "  export CARDANO_TESTNET_MAGIC=2 # Note that preprod=1 and preview=2. Do not set this variable if using mainnet.\n",
    "\n",
    "fi\n",
    "\n",
    "# FIXME: This should have been inherited from the parent environment.\n",
    "if [[ -z \"$CARDANO_NODE_SOCKET_PATH\" ]]\n",
    "then\n",
    "  export CARDANO_NODE_SOCKET_PATH=/ipc/node.socket\n",
    "fi\n",
    "\n",
    "# FIXME: This should have been set in the parent environment.\n",
    "if [[ -z \"$CARDANO_TESTNET_MAGIC\" ]]\n",
    "then\n",
    "  export CARDANO_TESTNET_MAGIC=$CARDANO_NODE_MAGIC\n",
    "fi\n",
    "\n",
    "case \"$CARDANO_TESTNET_MAGIC\" in\n",
    "  1)\n",
    "    export \"EXPLORER_URL=https://preprod.cardanoscan.io\"\n",
    "    ;;\n",
    "  2)\n",
    "    export \"EXPLORER_URL=https://preview.cardanoscan.io\"\n",
    "    ;;\n",
    "  *)\n",
    "    # Use `mainnet` as the default.\n",
    "    export \"EXPLORER_URL=https://cardanoscan.io\"\n",
    "    ;;\n",
    "esac\n",
    "\n",
    "echo \"CARDANO_NODE_SOCKET_PATH = $CARDANO_NODE_SOCKET_PATH\"\n",
    "echo \"CARDANO_TESTNET_MAGIC = $CARDANO_TESTNET_MAGIC\""
   ]
  },
  {
   "cell_type": "code",
   "execution_count": 10,
   "id": "abd316e0",
   "metadata": {
    "vscode": {
     "languageId": "shellscript"
    }
   },
   "outputs": [
    {
     "name": "stdout",
     "output_type": "stream",
     "text": [
      "NOW = 1686677526000 POSIX milliseconds = Tue Jun 13 05:32:06 PM UTC 2023\n"
     ]
    }
   ],
   "source": [
    "SECOND=1000 # 1 second = 1000 milliseconds\n",
    "MINUTE=$((60 * SECOND)) # 1 minute = 60 seconds\n",
    "HOUR=$((60 * MINUTE)) # 1 hour = 60 minutes\n",
    "\n",
    "NOW=\"$((`date -u +%s` * SECOND))\"\n",
    "echo NOW = \"$NOW\" POSIX milliseconds = \"`date -d @$((NOW / SECOND))`\"\n",
    "\n",
    "ADA=1000000"
   ]
  },
  {
   "cell_type": "markdown",
   "id": "ef8349f1-d164-4434-8c29-f19fd86201bc",
   "metadata": {
    "tags": []
   },
   "source": [
    "Note the test network magic number:\n",
    "- `preprod` = 1\n",
    "- `preview` = 2"
   ]
  },
  {
   "attachments": {},
   "cell_type": "markdown",
   "id": "aec94a01",
   "metadata": {},
   "source": [
    "# Examine accounts\n",
    "See [Lesson 0. Preliminaries](00-preliminaries.md) to request test ADA"
   ]
  },
  {
   "attachments": {},
   "cell_type": "markdown",
   "id": "6699e48f-cdb4-4532-9760-b080724142ef",
   "metadata": {
    "tags": [],
    "vscode": {
     "languageId": "shellscript"
    }
   },
   "source": [
    "### Alice's address and funds\n",
    "\n",
    "Check that an address and key has been created for the lender. If not, see \"Creating Addresses and Signing Keys\" in [Lesson 0. Preliminaries](00-preliminaries.md)."
   ]
  },
  {
   "cell_type": "code",
   "execution_count": 14,
   "id": "c7def6b8-c617-4049-872f-4974755d0cb0",
   "metadata": {
    "tags": [],
    "vscode": {
     "languageId": "shellscript"
    }
   },
   "outputs": [
    {
     "name": "stdout",
     "output_type": "stream",
     "text": [
      "ALICE_ADDR = addr_test1vrc79wasc0na5zglchugujuevu9ra9ehfjxwl4x9stgm9uc9dpguq\n"
     ]
    }
   ],
   "source": [
    "ALICE_SKEY=keys/alice.skey\n",
    "ALICE_ADDR=$(cat keys/alice.address)\n",
    "echo \"ALICE_ADDR = $ALICE_ADDR\""
   ]
  },
  {
   "attachments": {},
   "cell_type": "markdown",
   "id": "31614d3b-10c1-4704-b49a-82aa924cba23",
   "metadata": {},
   "source": [
    "Check that Alicer has at least one hundred ada."
   ]
  },
  {
   "cell_type": "code",
   "execution_count": 16,
   "id": "111e60bf-a7c8-41f1-b729-15d1defd27df",
   "metadata": {
    "tags": [],
    "vscode": {
     "languageId": "shellscript"
    }
   },
   "outputs": [
    {
     "name": "stdout",
     "output_type": "stream",
     "text": [
      "                           TxHash                                 TxIx        Amount\n",
      "--------------------------------------------------------------------------------------\n",
      "5c5328866aa0cf7af63ffbb68b5c3a99a4cf993c56d682be8b62fcf97fcc07f9     0        75683649 lovelace + TxOutDatumNone\n",
      "bd58fa8f26eeb65417080126b87a3be56dae66639dde5494bc00bbd7c49278f1     1        1000000000 lovelace + TxOutDatumNone\n",
      "d6ffcd7d0dceba4236391544cd4ada8842f32878395cd088991ee2e1fe73b01c     1        1000000000 lovelace + TxOutDatumNone\n",
      "d9096dd67b85d73576a5a8a3135a08dd1be1f6e26b0cbee547327b53b530b82b     0        796848386 lovelace + TxOutDatumNone\n",
      "e941faa76c97cb1956d2e50ac4dc5408e0f92e355ba8e80d480ffa3a2859eb5e     0        816333124 lovelace + TxOutDatumNone\n"
     ]
    }
   ],
   "source": [
    "cardano-cli query utxo --testnet-magic \"$CARDANO_TESTNET_MAGIC\" --address \"$ALICE_ADDR\""
   ]
  },
  {
   "cell_type": "markdown",
   "id": "d1d47a97-8c70-47c8-9c80-90e6619ea37c",
   "metadata": {},
   "source": [
    "One can view the address on a Cardano explorer. It sometimes takes thirty seconds or so for the transaction to be visible in an explorer."
   ]
  },
  {
   "cell_type": "code",
   "execution_count": 17,
   "id": "d4eb8b9f-84a2-4fce-abec-8725dc67c46a",
   "metadata": {
    "tags": [],
    "vscode": {
     "languageId": "shellscript"
    }
   },
   "outputs": [
    {
     "name": "stdout",
     "output_type": "stream",
     "text": [
      "https://preview.cardanoscan.io/address/addr_test1vrc79wasc0na5zglchugujuevu9ra9ehfjxwl4x9stgm9uc9dpguq\n"
     ]
    }
   ],
   "source": [
    "echo \"$EXPLORER_URL\"/address/\"$ALICE_ADDR\""
   ]
  },
  {
   "attachments": {},
   "cell_type": "markdown",
   "id": "7cb22b51-b719-429d-ab8c-ef43973905a7",
   "metadata": {
    "tags": [],
    "vscode": {
     "languageId": "shellscript"
    }
   },
   "source": [
    "### Bob's address and funds\n",
    "\n",
    "Check that an address and key has been created for the borrower. If not, see \"Creating Addresses and Signing Keys\" in [Lesson 0. Preliminaries](00-preliminaries.md)."
   ]
  },
  {
   "cell_type": "code",
   "execution_count": 18,
   "id": "b60f9abe-4956-4783-86cf-1827bd076dfe",
   "metadata": {
    "tags": [],
    "vscode": {
     "languageId": "shellscript"
    }
   },
   "outputs": [
    {
     "name": "stdout",
     "output_type": "stream",
     "text": [
      "BOB_ADDR = addr_test1vrudhk63pclytll6vdt6hrda75al5a2jhtlkuqn0mh89ngsr929vf\n"
     ]
    }
   ],
   "source": [
    "BOB_SKEY=keys/bob.skey\n",
    "BOB_ADDR=$(cat keys/bob.address)\n",
    "echo \"BOB_ADDR = $BOB_ADDR\""
   ]
  },
  {
   "cell_type": "markdown",
   "id": "9d9e5126-619f-4f5b-b51b-d4b5c80b952f",
   "metadata": {},
   "source": [
    "Check that the borrower has at least one hundred ada."
   ]
  },
  {
   "cell_type": "code",
   "execution_count": 19,
   "id": "a4a8216e-c5d3-4706-8ab9-918252369263",
   "metadata": {
    "tags": [],
    "vscode": {
     "languageId": "shellscript"
    }
   },
   "outputs": [
    {
     "name": "stdout",
     "output_type": "stream",
     "text": [
      "                           TxHash                                 TxIx        Amount\n",
      "--------------------------------------------------------------------------------------\n",
      "37cc9570bd16281f230bd3dd1d54b43c9b6a0861692d7cc1984fe5aa9a0e642f     0        286424194 lovelace + TxOutDatumNone\n",
      "77cbdf3d315ca6f6ab33adf708a511b88e269e53227f45d754d9f284833e4d84     0        78306842 lovelace + TxOutDatumNone\n",
      "84b42a912f1410b7d9c5de30e145960daba47de1476760a06b27e2b4fc49e3fd     0        399777783 lovelace + TxOutDatumNone\n",
      "d6ffcd7d0dceba4236391544cd4ada8842f32878395cd088991ee2e1fe73b01c     2        1000000000 lovelace + TxOutDatumNone\n",
      "dcfbdc54d2f294cefddf5ddb8c81acf7c314cfba7e18759a9b49813db77b284d     0        907632079 lovelace + TxOutDatumNone\n"
     ]
    }
   ],
   "source": [
    "cardano-cli query utxo --testnet-magic \"$CARDANO_TESTNET_MAGIC\" --address \"$BOB_ADDR\""
   ]
  },
  {
   "cell_type": "markdown",
   "id": "038e042c-2638-415c-ad7b-de390a82416b",
   "metadata": {},
   "source": [
    "One can view the address on a Cardano explorer. It sometimes takes thirty seconds or so for the transaction to be visible in an explorer."
   ]
  },
  {
   "cell_type": "code",
   "execution_count": 20,
   "id": "3455b47d-45f9-4d31-aebe-ab0ea7b36aa9",
   "metadata": {
    "tags": [],
    "vscode": {
     "languageId": "shellscript"
    }
   },
   "outputs": [
    {
     "name": "stdout",
     "output_type": "stream",
     "text": [
      "https://preview.cardanoscan.io/address/addr_test1vrudhk63pclytll6vdt6hrda75al5a2jhtlkuqn0mh89ngsr929vf\n"
     ]
    }
   ],
   "source": [
    "echo \"$EXPLORER_URL\"/address/\"$BOB_ADDR\""
   ]
  },
  {
   "cell_type": "markdown",
   "id": "a1f0813f-86ae-4209-9a78-cd533fca9857",
   "metadata": {},
   "source": [
    "## Examine the contract\n",
    "\n",
    "View the contract file as YAML."
   ]
  },
  {
   "cell_type": "code",
   "execution_count": 2,
   "id": "112824a7-635f-4134-b133-a20e63660b35",
   "metadata": {
    "vscode": {
     "languageId": "shellscript"
    }
   },
   "outputs": [
    {
     "name": "stdout",
     "output_type": "stream",
     "text": [
      "then:\n",
      "  then:\n",
      "    then:\n",
      "      then:\n",
      "        then:\n",
      "          when:\n",
      "          - then:\n",
      "              when:\n",
      "              - then:\n",
      "                  when:\n",
      "                  - then: close\n",
      "                    case:\n",
      "                      for_choice:\n",
      "                        choice_owner:\n",
      "                          address: invalid1vrxx3rjangevudlrejgp9m508uc26jd02n7lmdz365n4wrca35y5j\n",
      "                        choice_name: DO NOT ENTER, SKIP TO NEXT TIMEOUT INSTEAD\n",
      "                      choose_between:\n",
      "                      - to: 0\n",
      "                        from: 0\n",
      "                  timeout_continuation:\n",
      "                    when:\n",
      "                    - then:\n",
      "                        then:\n",
      "                          then:\n",
      "                            then:\n",
      "                              then: close\n",
      "                              if:\n",
      "                                value:\n",
      "                                  use_value: value_ada\n",
      "                                le_than: 0\n",
      "                              else:\n",
      "                                token:\n",
      "                                  token_name: ''\n",
      "                                  currency_symbol: ''\n",
      "                                to:\n",
      "                                  account:\n",
      "                                    address: addr_test1vrc79wasc0na5zglchugujuevu9ra9ehfjxwl4x9stgm9uc9dpguq\n",
      "                                then: close\n",
      "                                pay:\n",
      "                                  times: 1000000\n",
      "                                  multiply:\n",
      "                                    use_value: value_ada\n",
      "                                from_account:\n",
      "                                  address: addr_test1vrudhk63pclytll6vdt6hrda75al5a2jhtlkuqn0mh89ngsr929vf\n",
      "                            let: alice_profit\n",
      "                            be:\n",
      "                              value:\n",
      "                                use_value: value_ada\n",
      "                              minus:\n",
      "                                use_value: premium_ada\n",
      "                          let: value_ada\n",
      "                          be:\n",
      "                            times:\n",
      "                              value:\n",
      "                                use_value: market_ada\n",
      "                              minus:\n",
      "                                use_value: strike_ada\n",
      "                            multiply:\n",
      "                              use_value: notional_btc\n",
      "                        let: market_ada\n",
      "                        be:\n",
      "                          value_of_choice:\n",
      "                            choice_owner:\n",
      "                              address: addr_test1vrxx3rjangevudlrejgp9m508uc26jd02n7lmdz365n4wrca35y5j\n",
      "                            choice_name: WOLF_BTCADA\n",
      "                      case:\n",
      "                        for_choice:\n",
      "                          choice_owner:\n",
      "                            address: addr_test1vrxx3rjangevudlrejgp9m508uc26jd02n7lmdz365n4wrca35y5j\n",
      "                          choice_name: WOLF_BTCADA\n",
      "                        choose_between:\n",
      "                        - to: 1000000\n",
      "                          from: 0\n",
      "                    timeout_continuation: close\n",
      "                    timeout: 1000000100000002\n",
      "                  timeout: 1000000100000001\n",
      "                case:\n",
      "                  party:\n",
      "                    address: addr_test1vrudhk63pclytll6vdt6hrda75al5a2jhtlkuqn0mh89ngsr929vf\n",
      "                  of_token:\n",
      "                    token_name: ''\n",
      "                    currency_symbol: ''\n",
      "                  into_account:\n",
      "                    address: addr_test1vrudhk63pclytll6vdt6hrda75al5a2jhtlkuqn0mh89ngsr929vf\n",
      "                  deposits:\n",
      "                    times: 1000000\n",
      "                    multiply:\n",
      "                      use_value: margin_ada\n",
      "              timeout_continuation: close\n",
      "              timeout: 1000000000000002\n",
      "            case:\n",
      "              party:\n",
      "                address: addr_test1vrc79wasc0na5zglchugujuevu9ra9ehfjxwl4x9stgm9uc9dpguq\n",
      "              of_token:\n",
      "                token_name: ''\n",
      "                currency_symbol: ''\n",
      "              into_account:\n",
      "                address: addr_test1vrudhk63pclytll6vdt6hrda75al5a2jhtlkuqn0mh89ngsr929vf\n",
      "              deposits:\n",
      "                times: 1000000\n",
      "                multiply:\n",
      "                  use_value: premium_ada\n",
      "          timeout_continuation: close\n",
      "          timeout: 1000000000000001\n",
      "        let: margin_ada\n",
      "        be: 300\n",
      "      let: threshold\n",
      "      be:\n",
      "        and:\n",
      "          divide:\n",
      "            use_value: premium_ada\n",
      "          by:\n",
      "            use_value: notional_btc\n",
      "        add:\n",
      "          use_value: strike_ada\n",
      "    let: notional_btc\n",
      "    be: 2\n",
      "  let: premium_ada\n",
      "  be: 100\n",
      "let: strike_ada\n",
      "be: 1000\n"
     ]
    }
   ],
   "source": [
    "json2yaml wolfram-eurocall.json"
   ]
  },
  {
   "cell_type": "markdown",
   "id": "00f357bf-ebf0-4459-adb9-32c5a1140759",
   "metadata": {},
   "source": [
    "### \\[Optional, but recommended\\] Check the safety of the contract\n",
    "\n",
    "If we were running the contract on the Cardano `mainnet`, then we\\'d want to check its safety before creating it, so that there is no chance that we might lose funds.\n",
    "\n",
    "Here are the steps for checking the safety of a contract:\n",
    "\n",
    "1. Understand the [Marlowe Language](https://marlowe.iohk.io/).\n",
    "2. Understand Cardano\\'s [Extended UTxO Model](https://docs.cardano.org/learn/eutxo-explainer).\n",
    "3. Read and understand the [Marlowe Best Practices Guide](https://github.com/input-output-hk/marlowe-cardano/blob/main/marlowe/best-practices.md).\n",
    "4. Read and understand the [Marlowe Security Guide](https://github.com/input-output-hk/marlowe-cardano/blob/main/marlowe/security.md).\n",
    "5. Use [Marlowe Playground](https://https://play.marlowe.iohk.io//) to flag warnings, perform static analysis, and simulate the contract.\n",
    "6. Use [Marlowe CLI\\'s](https://github.com/input-output-hk/marlowe-cardano/blob/main/marlowe-cli/ReadMe.md) `marlowe-cli run analyze` tool to study whether the contract can run on a Cardano network.\n",
    "7. Run *all execution paths* of the contract on a [Cardano testnet](https://docs.cardano.org/cardano-testnet/overview).\n",
    "\n",
    "See [Lesson 1](01-runtime-cli.ipynb) for an example of performing step 6."
   ]
  },
  {
   "cell_type": "markdown",
   "id": "fcbdcc02-7ffe-46a4-8732-10a3e7b93865",
   "metadata": {},
   "source": [
    "## Transaction 1. Create the Contract"
   ]
  },
  {
   "cell_type": "markdown",
   "id": "6fad0f1b-a918-4c56-867e-29600be217f4",
   "metadata": {},
   "source": [
    "Marlowe CLI\\'s command `marlowe-cli run initialize` will build the creation information for a Marlowe contract. We provide it the JSON files containing the contract and initial state. Anyone could create the contract, but in this example the lender will be doing so, so we provide their address to fund the transaction and to receive the change from it."
   ]
  },
  {
   "cell_type": "code",
   "execution_count": 34,
   "id": "2053db7a-3244-4d30-a9e9-f5f1eb28ab45",
   "metadata": {
    "tags": [],
    "vscode": {
     "languageId": "shellscript"
    }
   },
   "outputs": [],
   "source": [
    "marlowe-cli run initialize \\\n",
    "  --permanently-without-staking \\\n",
    "  --contract-file wolfram-eurocall.json \\\n",
    "  --state-file wolfram-eurocall-state.json \\\n",
    "  --out-file marlowe-eurocall-1.json"
   ]
  },
  {
   "cell_type": "markdown",
   "id": "e8388b9b-b207-4925-9b98-f0803d84f882",
   "metadata": {},
   "source": [
    "We now use Marlowe CLI\\'s `marlowe-cli run auto-execute` command to construct and submit the creation transaction."
   ]
  },
  {
   "cell_type": "code",
   "execution_count": 35,
   "id": "c856072c-e31a-4363-8291-ef96292caedc",
   "metadata": {
    "tags": [],
    "vscode": {
     "languageId": "shellscript"
    }
   },
   "outputs": [
    {
     "name": "stdout",
     "output_type": "stream",
     "text": [
      "\n",
      "Fee: Lovelace 222217\n",
      "Size: 1123 / 16384 = 6%\n",
      "Execution units:\n",
      "  Memory: 0 / 14000000 = 0%\n",
      "  Steps: 0 / 10000000000 = 0%\n",
      "TX_1 = 6fe7cdcb4d44f5357b767df2fea740e818326a92890da34c1801f2dc878fdb69\n"
     ]
    }
   ],
   "source": [
    "TX_1=$(\n",
    "marlowe-cli run auto-execute \\\n",
    "  --marlowe-out-file marlowe-eurocall-1.json \\\n",
    "  --change-address \"$BOB_ADDR\" \\\n",
    "  --required-signer \"$BOB_SKEY\" \\\n",
    "  --out-file eurocall-tx-1.signed \\\n",
    "  --submit 600 \\\n",
    "  --print-stats \\\n",
    "| sed -e 's/^TxId \"\\(.*\\)\"$/\\1/' \\\n",
    ")\n",
    "echo \"TX_1 = $TX_1\""
   ]
  },
  {
   "cell_type": "markdown",
   "id": "aa349a31-4e44-42c9-8c3d-e910f195325d",
   "metadata": {},
   "source": [
    "One can view the transaction on a Cardano explorer. It sometimes takes thirty seconds or so for the transaction to be visible in an explorer."
   ]
  },
  {
   "cell_type": "code",
   "execution_count": 36,
   "id": "72115506-5bfd-480f-b3f0-47520dca84c1",
   "metadata": {
    "vscode": {
     "languageId": "shellscript"
    }
   },
   "outputs": [
    {
     "name": "stdout",
     "output_type": "stream",
     "text": [
      "https://preview.cardanoscan.io/transaction/6fe7cdcb4d44f5357b767df2fea740e818326a92890da34c1801f2dc878fdb69?tab=utxo\n"
     ]
    }
   ],
   "source": [
    "echo \"$EXPLORER_URL\"/transaction/\"$TX_1?tab=utxo\""
   ]
  },
  {
   "cell_type": "markdown",
   "id": "3b3dae70-a556-4621-bab9-fd92b9f165eb",
   "metadata": {},
   "source": [
    "One can also examine the contract's UTxO using `cardano-cli`."
   ]
  },
  {
   "cell_type": "code",
   "execution_count": 24,
   "id": "c4af1000-9220-4f31-92e8-ee5eb405df0b",
   "metadata": {
    "vscode": {
     "languageId": "shellscript"
    }
   },
   "outputs": [
    {
     "name": "stdout",
     "output_type": "stream",
     "text": [
      "                           TxHash                                 TxIx        Amount\n",
      "--------------------------------------------------------------------------------------\n",
      "ec39394af91ae0ea756ab729e8995ef11f27fffda8825c82eadb29f32b9b91a2     1        600000000 lovelace + TxOutDatumHash ScriptDataInBabbageEra \"4e3c9e2dd5a2b3a3f813bc05254abe1ac4f3658a39f22c68ed6589ab1e5c481b\"\n"
     ]
    }
   ],
   "source": [
    "cardano-cli query utxo --testnet-magic \"$CARDANO_TESTNET_MAGIC\" --tx-in \"$TX_1#1\""
   ]
  },
  {
   "attachments": {},
   "cell_type": "markdown",
   "id": "cd4fa3da-0f75-4b96-a911-0ba5bea722f8",
   "metadata": {},
   "source": [
    "## Transaction 2. Alice deposit\n",
    "\n",
    "Alice is going to bet some valuable cash she was saving for a rainy day"
   ]
  },
  {
   "cell_type": "code",
   "execution_count": 37,
   "id": "d2fac183-6fbd-4d0a-80a4-6045a20a8f2d",
   "metadata": {
    "tags": [],
    "vscode": {
     "languageId": "shellscript"
    }
   },
   "outputs": [
    {
     "name": "stdout",
     "output_type": "stream",
     "text": [
      "Rounding  `TransactionInput` txInterval boundries to:(POSIXTime {getPOSIXTime = 1686677724000},POSIXTime {getPOSIXTime = 1686678084999})\n",
      "TransactionInput {txInterval = (POSIXTime {getPOSIXTime = 1686677724000},POSIXTime {getPOSIXTime = 1686678084999}), txInputs = [NormalInput (IDeposit \"\\\"addr_test1vrc79wasc0na5zglchugujuevu9ra9ehfjxwl4x9stgm9uc9dpguq\\\"\" \"\\\"addr_test1vrc79wasc0na5zglchugujuevu9ra9ehfjxwl4x9stgm9uc9dpguq\\\"\" (Token \"\" \"\") 100000000)]}\n"
     ]
    }
   ],
   "source": [
    "marlowe-cli run prepare \\\n",
    "  --deposit-account \"$ALICE_ADDR\" \\\n",
    "  --deposit-party \"$ALICE_ADDR\" \\\n",
    "  --deposit-amount \"100000000\" \\\n",
    "  --invalid-before \"$((`date -u +%s` * SECOND - 1 * MINUTE))\" \\\n",
    "  --invalid-hereafter \"$((`date -u +%s` * SECOND + 5 * MINUTE))\" \\\n",
    "  --marlowe-file marlowe-eurocall-1.json \\\n",
    "  --out-file marlowe-eurocall-2.json"
   ]
  },
  {
   "cell_type": "code",
   "execution_count": 38,
   "id": "2e821767-d465-4051-96b6-f1128ec9cffc",
   "metadata": {
    "tags": [],
    "vscode": {
     "languageId": "shellscript"
    }
   },
   "outputs": [
    {
     "name": "stdout",
     "output_type": "stream",
     "text": [
      "\n",
      "Fee: Lovelace 728055\n",
      "Size: 2060 / 16384 = 12%\n",
      "Execution units:\n",
      "  Memory: 5990050 / 14000000 = 42%\n",
      "  Steps: 1649035524 / 10000000000 = 16%\n",
      "TX_2 = 63b44779d26e430be7654d3cb96007e640340c1f8d8add5400486eedc82028c9\n"
     ]
    }
   ],
   "source": [
    "TX_2=$(\n",
    "marlowe-cli run auto-execute \\\n",
    "  --tx-in-marlowe \"$TX_1#1\" \\\n",
    "  --marlowe-in-file marlowe-eurocall-1.json \\\n",
    "  --marlowe-out-file marlowe-eurocall-2.json \\\n",
    "  --change-address \"$ALICE_ADDR\" \\\n",
    "  --required-signer \"$ALICE_SKEY\" \\\n",
    "  --out-file eurocall-tx-2.signed \\\n",
    "  --submit 600 \\\n",
    "  --print-stats \\\n",
    "| sed -e 's/^TxId \"\\(.*\\)\"$/\\1/' \\\n",
    ")\n",
    "echo \"TX_2 = $TX_2\""
   ]
  },
  {
   "cell_type": "code",
   "execution_count": 27,
   "id": "bb813544-092a-4831-bff5-5ea7ce8a9259",
   "metadata": {
    "vscode": {
     "languageId": "shellscript"
    }
   },
   "outputs": [
    {
     "name": "stdout",
     "output_type": "stream",
     "text": [
      "https://preview.cardanoscan.io/transaction/731d8ced76f3d1e97381d449b54f54418b945a3909a49b3f4fa394a0710c7755?tab=utxo\n"
     ]
    }
   ],
   "source": [
    "echo \"$EXPLORER_URL\"/transaction/\"$TX_2?tab=utxo\""
   ]
  },
  {
   "cell_type": "code",
   "execution_count": 39,
   "id": "b45dc15d-f54f-49cb-a36d-0524f47fd70e",
   "metadata": {
    "vscode": {
     "languageId": "shellscript"
    }
   },
   "outputs": [
    {
     "name": "stdout",
     "output_type": "stream",
     "text": [
      "                           TxHash                                 TxIx        Amount\n",
      "--------------------------------------------------------------------------------------\n",
      "5c5328866aa0cf7af63ffbb68b5c3a99a4cf993c56d682be8b62fcf97fcc07f9     0        75683649 lovelace + TxOutDatumNone\n",
      "63b44779d26e430be7654d3cb96007e640340c1f8d8add5400486eedc82028c9     0        798544566 lovelace + TxOutDatumNone\n",
      "d6ffcd7d0dceba4236391544cd4ada8842f32878395cd088991ee2e1fe73b01c     1        1000000000 lovelace + TxOutDatumNone\n",
      "d9096dd67b85d73576a5a8a3135a08dd1be1f6e26b0cbee547327b53b530b82b     0        796848386 lovelace + TxOutDatumNone\n",
      "e941faa76c97cb1956d2e50ac4dc5408e0f92e355ba8e80d480ffa3a2859eb5e     0        816333124 lovelace + TxOutDatumNone\n"
     ]
    }
   ],
   "source": [
    "cardano-cli query utxo --testnet-magic \"$CARDANO_TESTNET_MAGIC\" --address \"$ALICE_ADDR\""
   ]
  },
  {
   "cell_type": "code",
   "execution_count": 40,
   "id": "6485d605-dec4-4bab-86f6-81bf002041ed",
   "metadata": {
    "vscode": {
     "languageId": "shellscript"
    }
   },
   "outputs": [
    {
     "name": "stdout",
     "output_type": "stream",
     "text": [
      "                           TxHash                                 TxIx        Amount\n",
      "--------------------------------------------------------------------------------------\n",
      "63b44779d26e430be7654d3cb96007e640340c1f8d8add5400486eedc82028c9     1        700000000 lovelace + TxOutDatumHash ScriptDataInBabbageEra \"072cbca1b638831001626ab64306bc09df49d7b6366614dde6a5cc6002c3346f\"\n"
     ]
    }
   ],
   "source": [
    "cardano-cli query utxo --testnet-magic \"$CARDANO_TESTNET_MAGIC\" --tx-in \"$TX_2#1\""
   ]
  },
  {
   "attachments": {},
   "cell_type": "markdown",
   "id": "e7c652f6-02da-4786-a54d-755d59e4aba9",
   "metadata": {},
   "source": [
    "## Transaction 3. Bob deposit\n",
    "\n",
    "Bob is unemployed because of his gampling problems. This bet is his only chance to find a good therapist."
   ]
  },
  {
   "cell_type": "code",
   "execution_count": 41,
   "id": "10a49a12-18b5-4240-9d95-6bad4e82375d",
   "metadata": {
    "tags": [],
    "vscode": {
     "languageId": "shellscript"
    }
   },
   "outputs": [
    {
     "name": "stdout",
     "output_type": "stream",
     "text": [
      "Rounding  `TransactionInput` txInterval boundries to:(POSIXTime {getPOSIXTime = 1686677803000},POSIXTime {getPOSIXTime = 1686678163999})\n",
      "TransactionInput {txInterval = (POSIXTime {getPOSIXTime = 1686677803000},POSIXTime {getPOSIXTime = 1686678163999}), txInputs = [NormalInput (IDeposit \"\\\"addr_test1vrudhk63pclytll6vdt6hrda75al5a2jhtlkuqn0mh89ngsr929vf\\\"\" \"\\\"addr_test1vrudhk63pclytll6vdt6hrda75al5a2jhtlkuqn0mh89ngsr929vf\\\"\" (Token \"\" \"\") 100000000)]}\n"
     ]
    }
   ],
   "source": [
    "marlowe-cli run prepare \\\n",
    "  --deposit-account \"$BOB_ADDR\" \\\n",
    "  --deposit-party \"$BOB_ADDR\" \\\n",
    "  --deposit-amount \"100000000\" \\\n",
    "  --invalid-before \"$((`date -u +%s` * SECOND - 1 * MINUTE))\" \\\n",
    "  --invalid-hereafter \"$((`date -u +%s` * SECOND + 5 * MINUTE))\" \\\n",
    "  --marlowe-file marlowe-eurocall-2.json \\\n",
    "  --out-file marlowe-eurocall-3.json"
   ]
  },
  {
   "cell_type": "code",
   "execution_count": 42,
   "id": "7c405029-bf87-4eac-8b9e-630f64ddd53e",
   "metadata": {
    "tags": [],
    "vscode": {
     "languageId": "shellscript"
    }
   },
   "outputs": [
    {
     "name": "stdout",
     "output_type": "stream",
     "text": [
      "\n",
      "Fee: Lovelace 692482\n",
      "Size: 1840 / 16384 = 11%\n",
      "Execution units:\n",
      "  Memory: 5694984 / 14000000 = 40%\n",
      "  Steps: 1554116205 / 10000000000 = 15%\n",
      "TX_3 = 7acbf1f09c29bbd0c2be9a66924be1284f58e694973c9914e8788f96ecbce0ed\n"
     ]
    }
   ],
   "source": [
    "TX_3=$(\n",
    "marlowe-cli run auto-execute \\\n",
    "  --tx-in-marlowe \"$TX_2#1\" \\\n",
    "  --marlowe-in-file marlowe-eurocall-2.json \\\n",
    "  --marlowe-out-file marlowe-eurocall-3.json \\\n",
    "  --change-address \"$BOB_ADDR\" \\\n",
    "  --required-signer \"$BOB_SKEY\" \\\n",
    "  --out-file eurocall-tx-3.signed \\\n",
    "  --submit 600 \\\n",
    "  --print-stats \\\n",
    "| sed -e 's/^TxId \"\\(.*\\)\"$/\\1/' \\\n",
    ")\n",
    "echo \"TX_3 = $TX_3\""
   ]
  },
  {
   "cell_type": "code",
   "execution_count": 43,
   "id": "94e9f529-529b-4777-b829-dcab0a5fc3b8",
   "metadata": {
    "vscode": {
     "languageId": "shellscript"
    }
   },
   "outputs": [
    {
     "name": "stdout",
     "output_type": "stream",
     "text": [
      "https://preview.cardanoscan.io/transaction/7acbf1f09c29bbd0c2be9a66924be1284f58e694973c9914e8788f96ecbce0ed?tab=utxo\n"
     ]
    }
   ],
   "source": [
    "echo \"$EXPLORER_URL\"/transaction/\"$TX_3?tab=utxo\""
   ]
  },
  {
   "attachments": {},
   "cell_type": "markdown",
   "id": "af13b1f3-d5e2-4ebc-8023-f0fd5875c0a5",
   "metadata": {},
   "source": [
    "# Now we wait for Oracle to decide the winner"
   ]
  },
  {
   "cell_type": "code",
   "execution_count": 46,
   "id": "492de5e8-7f07-437c-9f88-80ccdf00636f",
   "metadata": {
    "vscode": {
     "languageId": "shellscript"
    }
   },
   "outputs": [
    {
     "name": "stdout",
     "output_type": "stream",
     "text": [
      "                           TxHash                                 TxIx        Amount\n",
      "--------------------------------------------------------------------------------------\n",
      "5c5328866aa0cf7af63ffbb68b5c3a99a4cf993c56d682be8b62fcf97fcc07f9     0        75683649 lovelace + TxOutDatumNone\n",
      "63b44779d26e430be7654d3cb96007e640340c1f8d8add5400486eedc82028c9     0        798544566 lovelace + TxOutDatumNone\n",
      "d6ffcd7d0dceba4236391544cd4ada8842f32878395cd088991ee2e1fe73b01c     1        1000000000 lovelace + TxOutDatumNone\n",
      "d9096dd67b85d73576a5a8a3135a08dd1be1f6e26b0cbee547327b53b530b82b     0        796848386 lovelace + TxOutDatumNone\n",
      "e941faa76c97cb1956d2e50ac4dc5408e0f92e355ba8e80d480ffa3a2859eb5e     0        816333124 lovelace + TxOutDatumNone\n"
     ]
    }
   ],
   "source": [
    "cardano-cli query utxo --testnet-magic \"$CARDANO_TESTNET_MAGIC\" --address \"$ALICE_ADDR\""
   ]
  },
  {
   "cell_type": "markdown",
   "id": "1196c641-e92e-4848-a20b-b673d7fcbc71",
   "metadata": {},
   "source": [
    "The borrower now has about 5 ada (the loan's interest) less than originally."
   ]
  },
  {
   "cell_type": "code",
   "execution_count": 47,
   "id": "3e8f27e3-e94a-4332-94a2-2f8af8800d56",
   "metadata": {
    "vscode": {
     "languageId": "shellscript"
    }
   },
   "outputs": [
    {
     "name": "stdout",
     "output_type": "stream",
     "text": [
      "                           TxHash                                 TxIx        Amount\n",
      "--------------------------------------------------------------------------------------\n",
      "6fe7cdcb4d44f5357b767df2fea740e818326a92890da34c1801f2dc878fdb69     0        307409862 lovelace + TxOutDatumNone\n",
      "77cbdf3d315ca6f6ab33adf708a511b88e269e53227f45d754d9f284833e4d84     0        78306842 lovelace + TxOutDatumNone\n",
      "7acbf1f09c29bbd0c2be9a66924be1284f58e694973c9914e8788f96ecbce0ed     0        185731712 lovelace + TxOutDatumNone\n",
      "84b42a912f1410b7d9c5de30e145960daba47de1476760a06b27e2b4fc49e3fd     0        399777783 lovelace + TxOutDatumNone\n",
      "ec39394af91ae0ea756ab729e8995ef11f27fffda8825c82eadb29f32b9b91a2     0        399777783 lovelace + TxOutDatumNone\n"
     ]
    }
   ],
   "source": [
    "cardano-cli query utxo --testnet-magic \"$CARDANO_TESTNET_MAGIC\" --address \"$BOB_ADDR\""
   ]
  },
  {
   "attachments": {},
   "cell_type": "markdown",
   "id": "884182f0",
   "metadata": {},
   "source": [
    "# Run Mini-Oracle prematurely AND FAIL"
   ]
  },
  {
   "cell_type": "code",
   "execution_count": null,
   "id": "242c1c8c",
   "metadata": {
    "vscode": {
     "languageId": "shellscript"
    }
   },
   "outputs": [
    {
     "name": "stdout",
     "output_type": "stream",
     "text": [
      "  % Total    % Received % Xferd  Average Speed   Time    Time     Time  Current\n",
      "                                 Dload  Upload   Total   Spent    Left  Speed\n",
      "100    22    0    22    0     0     25      0 --:--:-- --:--:-- --:--:--    25\n",
      "TICKER = 25900\n",
      "Rounding  `TransactionInput` txInterval boundries to:(POSIXTime {getPOSIXTime = 1686681824000},POSIXTime {getPOSIXTime = 1686682184999})\n",
      "TransactionInput {txInterval = (POSIXTime {getPOSIXTime = 1686681824000},POSIXTime {getPOSIXTime = 1686682184999}), txInputs = [NormalInput (IChoice (ChoiceId \"WOLF_BTCUSD\" \"\\\"addr_test1vrxx3rjangevudlrejgp9m508uc26jd02n7lmdz365n4wrca35y5j\\\"\") 25900)]}\n",
      "Payment 1\n",
      "  Acccount: \"\\\"addr_test1vrc79wasc0na5zglchugujuevu9ra9ehfjxwl4x9stgm9uc9dpguq\\\"\"\n",
      "  Payee: Party \"\\\"addr_test1vrudhk63pclytll6vdt6hrda75al5a2jhtlkuqn0mh89ngsr929vf\\\"\"\n",
      "  Ada: Lovelace {getLovelace = 100000000}\n",
      "Payment 2\n",
      "  Acccount: \"\\\"addr_test1vrudhk63pclytll6vdt6hrda75al5a2jhtlkuqn0mh89ngsr929vf\\\"\"\n",
      "  Payee: Party \"\\\"addr_test1vrudhk63pclytll6vdt6hrda75al5a2jhtlkuqn0mh89ngsr929vf\\\"\"\n",
      "  Ada: Lovelace {getLovelace = 400000000}\n",
      "Payment 3\n",
      "  Acccount: \"\\\"addr_test1vrc79wasc0na5zglchugujuevu9ra9ehfjxwl4x9stgm9uc9dpguq\\\"\"\n",
      "  Payee: Party \"\\\"addr_test1vrc79wasc0na5zglchugujuevu9ra9ehfjxwl4x9stgm9uc9dpguq\\\"\"\n",
      "  Ada: Lovelace {getLovelace = 300000000}\n"
     ]
    }
   ],
   "source": [
    "TICKER=$(curl \"https://api.wolframalpha.com/v1/result?appid=6WU6JX-46EP5U9AGX&i=1%20btc%20to%20usd%20number\" | sed 's/[^0-9]//g')\n",
    "echo \"TICKER = $TICKER\"\n",
    "\n",
    "marlowe-cli run prepare \\\n",
    "  --choice-name \"WOLF_BTCUSD\" \\\n",
    "  --choice-party \"addr_test1vrxx3rjangevudlrejgp9m508uc26jd02n7lmdz365n4wrca35y5j\" \\\n",
    "  --choice-number \"$TICKER\" \\\n",
    "  --invalid-before \"$((`date -u +%s` * SECOND - 1 * MINUTE))\" \\\n",
    "  --invalid-hereafter \"$((`date -u +%s` * SECOND + 5 * MINUTE))\" \\\n",
    "  --marlowe-file marlowe-eurocall-3.json \\\n",
    "  --out-file marlowe-eurocall-4.json\n"
   ]
  },
  {
   "cell_type": "code",
   "execution_count": null,
   "id": "84b1477d",
   "metadata": {
    "vscode": {
     "languageId": "shellscript"
    }
   },
   "outputs": [
    {
     "name": "stdout",
     "output_type": "stream",
     "text": [
      "\n",
      "Fee: Lovelace 668923\n",
      "Size: 1090 / 16384 = 6%\n",
      "Execution units:\n",
      "  Memory: 5861728 / 14000000 = 41%\n",
      "  Steps: 1554062751 / 10000000000 = 15%\n",
      "TX_4 = 5de014d153d186aec12a0bc271d8daea052846c28756d662e36c52430575adde\n"
     ]
    }
   ],
   "source": [
    "TX_4=$(\n",
    "marlowe-cli run auto-execute \\\n",
    "  --tx-in-marlowe \"$TX_3#1\" \\\n",
    "  --marlowe-in-file marlowe-eurocall-3.json \\\n",
    "  --marlowe-out-file marlowe-eurocall-4.json \\\n",
    "  --change-address \"addr_test1vrxx3rjangevudlrejgp9m508uc26jd02n7lmdz365n4wrca35y5j\" \\\n",
    "  --required-signer \"keys/oracle.skey\" \\\n",
    "  --out-file tx-4.signed \\\n",
    "  --submit 600 \\\n",
    "  --print-stats \\\n",
    "| sed -e 's/^TxId \"\\(.*\\)\"$/\\1/' \\\n",
    ")\n",
    "echo \"TX_4 = $TX_4\""
   ]
  },
  {
   "cell_type": "markdown",
   "id": "7c5c7ab6",
   "metadata": {},
   "source": [
    "# Run Mini-Oracle manually"
   ]
  },
  {
   "cell_type": "code",
   "execution_count": null,
   "id": "b141d576",
   "metadata": {
    "vscode": {
     "languageId": "shellscript"
    }
   },
   "outputs": [
    {
     "name": "stdout",
     "output_type": "stream",
     "text": [
      "  % Total    % Received % Xferd  Average Speed   Time    Time     Time  Current\n",
      "                                 Dload  Upload   Total   Spent    Left  Speed\n",
      "100    22    0    22    0     0     25      0 --:--:-- --:--:-- --:--:--    25\n",
      "TICKER = 25900\n",
      "Rounding  `TransactionInput` txInterval boundries to:(POSIXTime {getPOSIXTime = 1686681824000},POSIXTime {getPOSIXTime = 1686682184999})\n",
      "TransactionInput {txInterval = (POSIXTime {getPOSIXTime = 1686681824000},POSIXTime {getPOSIXTime = 1686682184999}), txInputs = [NormalInput (IChoice (ChoiceId \"WOLF_BTCUSD\" \"\\\"addr_test1vrxx3rjangevudlrejgp9m508uc26jd02n7lmdz365n4wrca35y5j\\\"\") 25900)]}\n",
      "Payment 1\n",
      "  Acccount: \"\\\"addr_test1vrc79wasc0na5zglchugujuevu9ra9ehfjxwl4x9stgm9uc9dpguq\\\"\"\n",
      "  Payee: Party \"\\\"addr_test1vrudhk63pclytll6vdt6hrda75al5a2jhtlkuqn0mh89ngsr929vf\\\"\"\n",
      "  Ada: Lovelace {getLovelace = 100000000}\n",
      "Payment 2\n",
      "  Acccount: \"\\\"addr_test1vrudhk63pclytll6vdt6hrda75al5a2jhtlkuqn0mh89ngsr929vf\\\"\"\n",
      "  Payee: Party \"\\\"addr_test1vrudhk63pclytll6vdt6hrda75al5a2jhtlkuqn0mh89ngsr929vf\\\"\"\n",
      "  Ada: Lovelace {getLovelace = 400000000}\n",
      "Payment 3\n",
      "  Acccount: \"\\\"addr_test1vrc79wasc0na5zglchugujuevu9ra9ehfjxwl4x9stgm9uc9dpguq\\\"\"\n",
      "  Payee: Party \"\\\"addr_test1vrc79wasc0na5zglchugujuevu9ra9ehfjxwl4x9stgm9uc9dpguq\\\"\"\n",
      "  Ada: Lovelace {getLovelace = 300000000}\n"
     ]
    }
   ],
   "source": [
    "TICKER=$(curl \"https://api.wolframalpha.com/v1/result?appid=6WU6JX-46EP5U9AGX&i=1%20btc%20to%20usd%20number\" | sed 's/[^0-9]//g')\n",
    "echo \"TICKER = $TICKER\"\n",
    "\n",
    "marlowe-cli run prepare \\\n",
    "  --choice-name \"WOLF_BTCUSD\" \\\n",
    "  --choice-party \"addr_test1vrxx3rjangevudlrejgp9m508uc26jd02n7lmdz365n4wrca35y5j\" \\\n",
    "  --choice-number \"$TICKER\" \\\n",
    "  --invalid-before \"$((`date -u +%s` * SECOND - 1 * MINUTE))\" \\\n",
    "  --invalid-hereafter \"$((`date -u +%s` * SECOND + 5 * MINUTE))\" \\\n",
    "  --marlowe-file marlowe-eurocall-3.json \\\n",
    "  --out-file marlowe-eurocall-4.json\n"
   ]
  },
  {
   "cell_type": "code",
   "execution_count": null,
   "id": "289c0658",
   "metadata": {
    "vscode": {
     "languageId": "shellscript"
    }
   },
   "outputs": [
    {
     "name": "stdout",
     "output_type": "stream",
     "text": [
      "\n",
      "Fee: Lovelace 668923\n",
      "Size: 1090 / 16384 = 6%\n",
      "Execution units:\n",
      "  Memory: 5861728 / 14000000 = 41%\n",
      "  Steps: 1554062751 / 10000000000 = 15%\n",
      "TX_4 = 5de014d153d186aec12a0bc271d8daea052846c28756d662e36c52430575adde\n"
     ]
    }
   ],
   "source": [
    "TX_4=$(\n",
    "marlowe-cli run auto-execute \\\n",
    "  --tx-in-marlowe \"$TX_3#1\" \\\n",
    "  --marlowe-in-file marlowe-eurocall-3.json \\\n",
    "  --marlowe-out-file marlowe-eurocall-4.json \\\n",
    "  --change-address \"addr_test1vrxx3rjangevudlrejgp9m508uc26jd02n7lmdz365n4wrca35y5j\" \\\n",
    "  --required-signer \"keys/oracle.skey\" \\\n",
    "  --out-file tx-4.signed \\\n",
    "  --submit 600 \\\n",
    "  --print-stats \\\n",
    "| sed -e 's/^TxId \"\\(.*\\)\"$/\\1/' \\\n",
    ")\n",
    "echo \"TX_4 = $TX_4\""
   ]
  },
  {
   "cell_type": "code",
   "execution_count": null,
   "id": "0cabe392",
   "metadata": {
    "vscode": {
     "languageId": "shellscript"
    }
   },
   "outputs": [
    {
     "name": "stdout",
     "output_type": "stream",
     "text": [
      "https://preview.cardanoscan.io/transaction/7acbf1f09c29bbd0c2be9a66924be1284f58e694973c9914e8788f96ecbce0ed?tab=utxo\n"
     ]
    }
   ],
   "source": [
    "echo \"$EXPLORER_URL\"/transaction/\"$TX_3?tab=utxo\""
   ]
  }
 ],
 "metadata": {
  "kernelspec": {
   "display_name": "Bash",
   "language": "bash",
   "name": "bash"
  },
  "language_info": {
   "codemirror_mode": "shell",
   "file_extension": ".sh",
   "mimetype": "text/x-sh",
   "name": "bash"
  }
 },
 "nbformat": 4,
 "nbformat_minor": 5
}
